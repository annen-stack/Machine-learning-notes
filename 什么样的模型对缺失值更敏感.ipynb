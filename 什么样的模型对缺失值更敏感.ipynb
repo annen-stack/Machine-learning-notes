{
 "cells": [
  {
   "cell_type": "markdown",
   "metadata": {},
   "source": [
    "主流的机器学习模型千千万，很难一概而论。但有一些经验法则(rule of thumb)供参考：\n",
    "\n",
    "1. 树模型对于缺失值的敏感度较低，大部分时候可以在数据有缺失时使用。\n",
    "\n",
    "2. 涉及到距离度量(distance measurement)时，如计算两个点之间的距离，缺失数据就变得比较重要。因为涉及到“距离”这个概念，那么缺失值处理不当就会导致效果很差，如K近邻算法(KNN)和支持向量机(SVM)。\n",
    "\n",
    "3. 线性模型的代价函数(loss function)往往涉及到距离(distance)的计算，计算预测值和真实值之间的差别，这容易导致对缺失值敏感。\n",
    "\n",
    "4. 神经网络的鲁棒性强，对于缺失数据不是非常敏感，但一般没有那么多数据可供使用。\n",
    "\n",
    "5. 贝叶斯模型对于缺失数据也比较稳定，数据量很小的时候首推贝叶斯模型。\n",
    "\n",
    "6. 总结来看，对于有缺失值的数据在经过缺失值处理后：\n",
    "\n",
    "(1) 数据量很小，用朴素贝叶斯\n",
    "\n",
    "(2) 数据量适中或者较大，用树模型，优先 xgboost\n",
    "\n",
    "(3) 数据量较大，也可以用神经网络\n",
    "\n",
    "(4) 避免使用距离度量相关的模型，如KNN和SVM"
   ]
  },
  {
   "cell_type": "code",
   "execution_count": null,
   "metadata": {
    "collapsed": true
   },
   "outputs": [],
   "source": []
  }
 ],
 "metadata": {
  "kernelspec": {
   "display_name": "Python 3",
   "language": "python",
   "name": "python3"
  },
  "language_info": {
   "codemirror_mode": {
    "name": "ipython",
    "version": 3
   },
   "file_extension": ".py",
   "mimetype": "text/x-python",
   "name": "python",
   "nbconvert_exporter": "python",
   "pygments_lexer": "ipython3",
   "version": "3.5.2"
  }
 },
 "nbformat": 4,
 "nbformat_minor": 2
}
