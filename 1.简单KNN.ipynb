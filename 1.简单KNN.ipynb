{
 "cells": [
  {
   "cell_type": "code",
   "execution_count": 2,
   "metadata": {},
   "outputs": [
    {
     "name": "stdout",
     "output_type": "stream",
     "text": [
      "动作片\n"
     ]
    }
   ],
   "source": [
    "import numpy as np\n",
    "import operator\n",
    "import collections\n",
    "\n",
    "def createDataSet():\n",
    "    group=np.array([[1,101],[5,89],[108,5],[115,8]])\n",
    "    labels=['爱情片','爱情片','动作片','动作片']\n",
    "    return group,labels\n",
    "\n",
    "def classify0(inx,dataset,labels,k):\n",
    "    dist=np.sum((inx-dataset)**2,axis=1)**0.5\n",
    "    k_labels=[labels[index] for index in dist.argsort()[0:k]]\n",
    "    label=collections.Counter(k_labels).most_common(1)[0][0]\n",
    "    return label\n",
    "\n",
    "\n",
    "group,labels=createDataSet()\n",
    "test=[101,20]\n",
    "test_class=classify0(test,group,labels,3)\n",
    "print(test_class)"
   ]
  },
  {
   "cell_type": "code",
   "execution_count": null,
   "metadata": {
    "collapsed": true
   },
   "outputs": [],
   "source": []
  }
 ],
 "metadata": {
  "kernelspec": {
   "display_name": "Python 3",
   "language": "python",
   "name": "python3"
  },
  "language_info": {
   "codemirror_mode": {
    "name": "ipython",
    "version": 3
   },
   "file_extension": ".py",
   "mimetype": "text/x-python",
   "name": "python",
   "nbconvert_exporter": "python",
   "pygments_lexer": "ipython3",
   "version": "3.5.2"
  }
 },
 "nbformat": 4,
 "nbformat_minor": 2
}
